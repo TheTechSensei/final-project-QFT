{
 "cells": [
  {
   "cell_type": "markdown",
   "metadata": {},
   "source": [
    "### Configurar Qiskit para usar la Computadora Cuántica"
   ]
  },
  {
   "cell_type": "code",
   "execution_count": null,
   "metadata": {},
   "outputs": [],
   "source": [
    "from qiskit import QuantumCircuit, transpile\n",
    "from qiskit_ibm_runtime import QiskitRuntimeService\n",
    "from qiskit_aer import AerSimulator\n",
    "from dotenv import load_dotenv\n",
    "from qiskit.visualization import plot_histogram\n",
    "import matplotlib.pyplot as plt\n",
    "import numpy as np\n",
    "import time\n",
    "import os"
   ]
  },
  {
   "cell_type": "code",
   "execution_count": null,
   "metadata": {},
   "outputs": [],
   "source": [
    "# Cargar variables de entorno\n",
    "load_dotenv(override=True)\n",
    "\n",
    "# Cargar tu API Key desde el entorno .env\n",
    "backend_name = os.getenv(\"IBMQ_BACKEND\")\n",
    "api_token = os.getenv(\"IBMQ_API_TOKEN\")\n",
    "\n",
    "if not api_token:\n",
    "    raise ValueError(\"API Token no encontrado. Asegúrate de configurarlo en el archivo .env.\")\n",
    "\n",
    "if not backend_name:\n",
    "    raise ValueError(\"Backend no encontrado. Asegúrate de configurarlo en el archivo .env.\")\n",
    "\n",
    "\n",
    "QiskitRuntimeService.save_account(channel=\"ibm_quantum\", token=api_token, overwrite=True)\n",
    "\n",
    "# Conectar al servicio\n",
    "service = QiskitRuntimeService()\n",
    "\n",
    "\n",
    "# Seleccionar el backend\n",
    "backend = service.backend(backend_name)\n",
    "print(f\"Usando backend: {backend}\")\n",
    "\n"
   ]
  },
  {
   "cell_type": "markdown",
   "metadata": {},
   "source": [
    "### Implementar la QFT en Qiskit en Computadora Cuántica Real\n"
   ]
  },
  {
   "cell_type": "code",
   "execution_count": null,
   "metadata": {},
   "outputs": [],
   "source": [
    "\n",
    "# Definir el circuito QFT\n",
    "def qft_circuit(n):\n",
    "    \"\"\"Crear un circuito QFT para n qubits.\"\"\"\n",
    "    qc = QuantumCircuit(n)\n",
    "    for qubit in range(n):\n",
    "        qc.h(qubit)  # Compuerta Hadamard\n",
    "        for k in range(qubit + 1, n):\n",
    "            angle = np.pi / (2 ** (k - qubit))\n",
    "            qc.cp(angle, qubit, k)  # Rotaciones controladas\n",
    "    qc.barrier()\n",
    "    for qubit in range(n // 2):\n",
    "        qc.swap(qubit, n - qubit - 1)  # Invertir qubits\n",
    "    return qc\n",
    "\n",
    "# Crear el circuito QFT para 8 qubits\n",
    "n_qubits = 8\n",
    "qc = qft_circuit(n_qubits)\n",
    "qc.measure_all()\n",
    "\n",
    "# Transpilar el circuito para el backend seleccionado\n",
    "print(\"Transpilando el circuito para el backend seleccionado...\")\n",
    "transpiled_circuit = transpile(qc, backend)\n",
    "\n",
    "# Ejecutar el circuito en el backend cuántico\n",
    "print(\"Ejecutando el circuito en el backend cuántico...\")\n",
    "job = backend.run(transpiled_circuit, shots=4096)\n",
    "\n",
    "# Esperar los resultados\n",
    "print(\"Esperando resultados del backend cuántico...\")\n",
    "result = job.result()\n",
    "counts = result.get_counts()\n",
    "print(\"Resultados obtenidos del backend cuántico:\", counts)\n",
    "\n",
    "# Normalizar los resultados para que sean proporciones\n",
    "total_shots = sum(counts.values())  # Total de mediciones realizadas\n",
    "normalized_counts = {k: v / total_shots for k, v in counts.items()}\n",
    "print(\"Normalized counts:\", normalized_counts)\n",
    "\n",
    "# Filtrar los estados con baja frecuencia para mejorar la claridad\n",
    "threshold = 0.001  # Reducir el umbral mínimo de frecuencia (0.1%)\n",
    "filtered_counts = {k: v for k, v in normalized_counts.items() if v >= threshold}\n",
    "\n",
    "# Si no hay datos después del filtrado, mostrar todos los datos\n",
    "if not filtered_counts:\n",
    "    print(\"No hay estados con frecuencia >= 0.1%. Mostrando todos los datos.\")\n",
    "    filtered_counts = normalized_counts\n",
    "\n",
    "# Mostrar advertencia si muchos datos fueron eliminados\n",
    "if len(filtered_counts) < len(normalized_counts):\n",
    "    print(f\"Se filtraron {len(normalized_counts) - len(filtered_counts)} estados con frecuencia < {threshold * 100}%.\")\n",
    "\n",
    "# Ordenar y graficar los resultados filtrados\n",
    "sorted_counts = dict(sorted(filtered_counts.items(), key=lambda item: item[0]))  # Ordenar por estado binario\n",
    "plt.figure(figsize=(12, 6))  # Ajustar el tamaño de la figura\n",
    "plot_histogram(sorted_counts, bar_labels=True)  # Mostrar etiquetas en las barras\n",
    "\n",
    "# Personalizar la visualización\n",
    "plt.title(\"Resultados de la Transformada de Fourier Cuántica (QFT)\", fontsize=16)\n",
    "plt.xlabel(\"Estados medidos (binario)\", fontsize=14)\n",
    "plt.ylabel(\"Frecuencia de conteo (normalizada)\", fontsize=14)\n",
    "plt.xticks(rotation=90, fontsize=10)  # Rotar etiquetas del eje x para claridad\n",
    "plt.grid(axis='y', linestyle='--', alpha=0.7)  # Agregar cuadrícula en el eje y\n",
    "plt.tight_layout()  # Ajustar el espaciado automáticamente para evitar superposiciones\n",
    "plt.show()"
   ]
  }
 ],
 "metadata": {
  "kernelspec": {
   "display_name": "Python (quantum-qft-env)",
   "language": "python",
   "name": "quantum-qft-env"
  },
  "language_info": {
   "codemirror_mode": {
    "name": "ipython",
    "version": 3
   },
   "file_extension": ".py",
   "mimetype": "text/x-python",
   "name": "python",
   "nbconvert_exporter": "python",
   "pygments_lexer": "ipython3",
   "version": "3.12.1"
  }
 },
 "nbformat": 4,
 "nbformat_minor": 2
}
